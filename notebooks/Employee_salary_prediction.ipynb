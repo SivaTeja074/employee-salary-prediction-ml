{
  "cells": [
    {
      "cell_type": "code",
      "execution_count": null,
      "metadata": {
        "colab": {
          "base_uri": "https://localhost:8080/"
        },
        "id": "qjVOwDNJxxzO",
        "outputId": "02f67c62-2a21-4aee-b435-29462ce73673"
      },
      "outputs": [
        {
          "name": "stdout",
          "output_type": "stream",
          "text": [
            "Categorical columns: ['workclass', 'marital-status', 'occupation', 'relationship', 'race', 'gender', 'native-country']\n",
            "Numeric columns: ['age', 'fnlwgt', 'educational-num', 'capital-gain', 'capital-loss', 'hours-per-week']\n",
            "\n",
            "LogisticRegression Accuracy: 0.8403\n",
            "              precision    recall  f1-score   support\n",
            "\n",
            "       <=50K       0.87      0.92      0.90      5014\n",
            "        >50K       0.72      0.60      0.66      1706\n",
            "\n",
            "    accuracy                           0.84      6720\n",
            "   macro avg       0.80      0.76      0.78      6720\n",
            "weighted avg       0.83      0.84      0.84      6720\n",
            "\n",
            "\n",
            "RandomForest Accuracy: 0.8426\n",
            "              precision    recall  f1-score   support\n",
            "\n",
            "       <=50K       0.88      0.92      0.90      5014\n",
            "        >50K       0.72      0.61      0.66      1706\n",
            "\n",
            "    accuracy                           0.84      6720\n",
            "   macro avg       0.80      0.77      0.78      6720\n",
            "weighted avg       0.84      0.84      0.84      6720\n",
            "\n",
            "\n",
            "KNN Accuracy: 0.8179\n",
            "              precision    recall  f1-score   support\n",
            "\n",
            "       <=50K       0.86      0.90      0.88      5014\n",
            "        >50K       0.66      0.59      0.62      1706\n",
            "\n",
            "    accuracy                           0.82      6720\n",
            "   macro avg       0.76      0.74      0.75      6720\n",
            "weighted avg       0.81      0.82      0.81      6720\n",
            "\n",
            "\n",
            "SVM Accuracy: 0.8458\n",
            "              precision    recall  f1-score   support\n",
            "\n",
            "       <=50K       0.87      0.93      0.90      5014\n",
            "        >50K       0.75      0.59      0.66      1706\n",
            "\n",
            "    accuracy                           0.85      6720\n",
            "   macro avg       0.81      0.76      0.78      6720\n",
            "weighted avg       0.84      0.85      0.84      6720\n",
            "\n",
            "\n",
            "GradientBoosting Accuracy: 0.8600\n",
            "              precision    recall  f1-score   support\n",
            "\n",
            "       <=50K       0.88      0.95      0.91      5014\n",
            "        >50K       0.79      0.61      0.69      1706\n",
            "\n",
            "    accuracy                           0.86      6720\n",
            "   macro avg       0.83      0.78      0.80      6720\n",
            "weighted avg       0.85      0.86      0.85      6720\n",
            "\n",
            "\n",
            "✅ Best Model: GradientBoosting with Accuracy: 0.8600\n",
            "✅ Saved best pipeline as best_model.pkl\n"
          ]
        }
      ],
      "source": [
        "import pandas as pd\n",
        "from sklearn.model_selection import train_test_split\n",
        "from sklearn.compose import ColumnTransformer\n",
        "from sklearn.preprocessing import OneHotEncoder, StandardScaler\n",
        "from sklearn.pipeline import Pipeline\n",
        "from sklearn.linear_model import LogisticRegression\n",
        "from sklearn.ensemble import RandomForestClassifier, GradientBoostingClassifier\n",
        "from sklearn.neighbors import KNeighborsClassifier\n",
        "from sklearn.svm import SVC\n",
        "from sklearn.metrics import accuracy_score, classification_report\n",
        "import joblib\n",
        "\n",
        "# -------------------------------\n",
        "# ✅ Load & clean data\n",
        "# -------------------------------\n",
        "data = pd.read_csv(\"C:\\Users\\tvtej\\Downloads\\employee-salary-prediction-ml\\data\\employee_salary_dataset.csv\")\n",
        "\n",
        "data['occupation'] = data['occupation'].replace({'?': 'Others'})\n",
        "data['workclass'] = data['workclass'].replace({'?': 'NotListed'})\n",
        "data['native-country'] = data['native-country'].replace({'?': 'Others'})\n",
        "\n",
        "data = data[~data['workclass'].isin(['Without-pay', 'Never-worked'])]\n",
        "data = data[data['occupation'] != 'Armed-Forces']\n",
        "data = data[data['marital-status'] != 'Married-AF-spouse']\n",
        "data = data[data['education'] != 'Preschool']\n",
        "data = data[data['native-country'] != 'Holand-Netherlands']\n",
        "\n",
        "data.drop(columns=['education'], inplace=True)\n",
        "\n",
        "data = data[(data['age'] <= 75) & (data['age'] >= 17)]\n",
        "data = data[(data['educational-num'] <= 16) & (data['educational-num'] >= 5)]\n",
        "data = data[(data['hours-per-week'] <= 50) & (data['hours-per-week'] >= 35)]\n",
        "\n",
        "# -------------------------------\n",
        "# ✅ Define X, y\n",
        "# -------------------------------\n",
        "X = data.drop(columns=['income'])\n",
        "y = data['income']\n",
        "\n",
        "categorical_cols = [\n",
        "    'workclass', 'marital-status', 'occupation',\n",
        "    'relationship', 'race', 'gender', 'native-country'\n",
        "]\n",
        "numeric_cols = [\n",
        "    'age', 'fnlwgt', 'educational-num',\n",
        "    'capital-gain', 'capital-loss', 'hours-per-week'\n",
        "]\n",
        "\n",
        "print(f\"Categorical columns: {categorical_cols}\")\n",
        "print(f\"Numeric columns: {numeric_cols}\")\n",
        "\n",
        "X_train, X_test, y_train, y_test = train_test_split(\n",
        "    X, y, test_size=0.2, random_state=42\n",
        ")\n",
        "\n",
        "preprocessor = ColumnTransformer([\n",
        "    ('cat', OneHotEncoder(handle_unknown='ignore'), categorical_cols),\n",
        "    ('num', StandardScaler(), numeric_cols)\n",
        "])\n",
        "\n",
        "models = {\n",
        "    \"LogisticRegression\": LogisticRegression(max_iter=1000),\n",
        "    \"RandomForest\": RandomForestClassifier(),\n",
        "    \"KNN\": KNeighborsClassifier(),\n",
        "    \"SVM\": SVC(),\n",
        "    \"GradientBoosting\": GradientBoostingClassifier()\n",
        "}\n",
        "\n",
        "results = {}\n",
        "pipelines = {}\n",
        "\n",
        "for name, clf in models.items():\n",
        "    pipe = Pipeline([\n",
        "        ('preprocessor', preprocessor),\n",
        "        ('model', clf)\n",
        "    ])\n",
        "    pipe.fit(X_train, y_train)\n",
        "    y_pred = pipe.predict(X_test)\n",
        "    acc = accuracy_score(y_test, y_pred)\n",
        "    results[name] = acc\n",
        "    pipelines[name] = pipe\n",
        "    print(f\"\\n{name} Accuracy: {acc:.4f}\")\n",
        "    print(classification_report(y_test, y_pred))\n",
        "\n",
        "best_model_name = max(results, key=results.get)\n",
        "best_pipeline = pipelines[best_model_name]\n",
        "\n",
        "print(f\"\\n✅ Best Model: {best_model_name} with Accuracy: {results[best_model_name]:.4f}\")\n",
        "\n",
        "joblib.dump(best_pipeline, \"best_model.pkl\")\n",
        "print(\"✅ Saved best pipeline as best_model.pkl\")\n"
      ]
    },
    {
      "cell_type": "code",
      "execution_count": null,
      "metadata": {
        "colab": {
          "base_uri": "https://localhost:8080/",
          "height": 564
        },
        "id": "LvdMRXA3qxiR",
        "outputId": "b45e990c-a2f4-49a5-8375-c7bc66987537"
      },
      "outputs": [
        {
          "data": {
            "image/png": "[encoded data removed]",
            "text/plain": [
              "<Figure size 1000x600 with 1 Axes>"
            ]
          },
          "metadata": {},
          "output_type": "display_data"
        }
      ],
      "source": [
        "import matplotlib.pyplot as plt\n",
        "\n",
        "# After calculating 'results', plot the bar chart\n",
        "model_names = list(results.keys())\n",
        "accuracies = list(results.values())\n",
        "\n",
        "plt.figure(figsize=(10, 6))\n",
        "bars = plt.bar(model_names, accuracies, color=['skyblue', 'lightgreen', 'salmon', 'violet', 'orange'])\n",
        "\n",
        "# Annotate bars with accuracy values\n",
        "for bar, acc in zip(bars, accuracies):\n",
        "    yval = bar.get_height()\n",
        "    plt.text(bar.get_x() + bar.get_width()/2.0, yval + 0.01, f\"{acc:.2f}\", ha='center', va='bottom')\n",
        "\n",
        "plt.title('Model Accuracy Comparison')\n",
        "plt.xlabel('Model')\n",
        "plt.ylabel('Accuracy')\n",
        "plt.ylim(0, 1)  # Accuracy is between 0 and 1\n",
        "plt.show()\n"
      ]
    },
    {
      "cell_type": "code",
      "execution_count": null,
      "metadata": {
        "colab": {
          "base_uri": "https://localhost:8080/"
        },
        "id": "Ygo8-LXnyVMx",
        "outputId": "a11f0346-fc35-4083-b3fa-5bf23f4a0b10"
      },
      "outputs": [
        {
          "name": "stdout",
          "output_type": "stream",
          "text": [
            "Overwriting app.py\n"
          ]
        }
      ],
      "source": [
        "%%writefile app.py\n",
        "import streamlit as st\n",
        "import pandas as pd\n",
        "import joblib\n",
        "\n",
        "st.set_page_config(\n",
        "    page_title=\"Employee Salary Predictor\",\n",
        "    page_icon=\"💼\",\n",
        "    layout=\"centered\"\n",
        ")\n",
        "\n",
        "@st.cache_resource\n",
        "def load_model(path=\"best_model.pkl\"):\n",
        "    return joblib.load(path)\n",
        "\n",
        "model = load_model()\n",
        "\n",
        "st.title(\"💼 Predict Employee Salary Bracket\")\n",
        "st.write(\n",
        "    \"\"\"\n",
        "    Enter employee details below to predict whether their salary exceeds \\$50K annually.\n",
        "    \"\"\"\n",
        ")\n",
        "\n",
        "with st.form(\"employee_input_form\"):\n",
        "    st.header(\"🧾 Employee Information\")\n",
        "\n",
        "    col1, col2 = st.columns(2)\n",
        "\n",
        "    with col1:\n",
        "        age = st.slider(\"Age\", 18, 75, 30)\n",
        "        fnlwgt = st.number_input(\"Final Weight (fnlwgt)\", min_value=0, value=100000)\n",
        "        educational_num = st.slider(\"Education Num (5–16)\", 5, 16, 10)\n",
        "        capital_gain = st.number_input(\"Capital Gain\", min_value=0, value=0)\n",
        "        capital_loss = st.number_input(\"Capital Loss\", min_value=0, value=0)\n",
        "        hours_per_week = st.slider(\"Hours worked per week\", 35, 50, 40)\n",
        "\n",
        "    with col2:\n",
        "        workclass = st.selectbox(\n",
        "            \"Workclass\",\n",
        "            [\"Private\", \"Self-emp-not-inc\", \"Self-emp-inc\", \"Federal-gov\",\n",
        "             \"Local-gov\", \"State-gov\", \"NotListed\"]\n",
        "        )\n",
        "        marital_status = st.selectbox(\n",
        "            \"Marital Status\",\n",
        "            [\"Never-married\", \"Married-civ-spouse\", \"Divorced\", \"Separated\", \"Widowed\"]\n",
        "        )\n",
        "        occupation = st.selectbox(\n",
        "            \"Occupation\",\n",
        "            [\n",
        "                \"Tech-support\", \"Craft-repair\", \"Other-service\", \"Sales\",\n",
        "                \"Exec-managerial\", \"Prof-specialty\", \"Handlers-cleaners\",\n",
        "                \"Machine-op-inspct\", \"Adm-clerical\", \"Farming-fishing\",\n",
        "                \"Transport-moving\", \"Priv-house-serv\", \"Protective-serv\",\n",
        "                \"Others\"\n",
        "            ]\n",
        "        )\n",
        "        relationship = st.selectbox(\n",
        "            \"Relationship\",\n",
        "            [\"Husband\", \"Not-in-family\", \"Own-child\", \"Unmarried\", \"Other-relative\"]\n",
        "        )\n",
        "        race = st.selectbox(\n",
        "            \"Race\",\n",
        "            [\"White\", \"Black\", \"Asian-Pac-Islander\", \"Amer-Indian-Eskimo\", \"Other\"]\n",
        "        )\n",
        "        gender = st.radio(\"Gender\", [\"Male\", \"Female\"])\n",
        "        native_country = st.selectbox(\n",
        "            \"Native Country\",\n",
        "            [\"United-States\", \"Mexico\", \"Philippines\", \"Germany\", \"Canada\", \"Others\"]\n",
        "        )\n",
        "\n",
        "    submitted = st.form_submit_button(\"🔍 Predict\")\n",
        "\n",
        "if submitted:\n",
        "    features = pd.DataFrame({\n",
        "        \"age\": [age],\n",
        "        \"workclass\": [workclass],\n",
        "        \"fnlwgt\": [fnlwgt],\n",
        "        \"marital-status\": [marital_status],\n",
        "        \"occupation\": [occupation],\n",
        "        \"relationship\": [relationship],\n",
        "        \"race\": [race],\n",
        "        \"gender\": [gender],\n",
        "        \"native-country\": [native_country],\n",
        "        \"educational-num\": [educational_num],\n",
        "        \"capital-gain\": [capital_gain],\n",
        "        \"capital-loss\": [capital_loss],\n",
        "        \"hours-per-week\": [hours_per_week]\n",
        "    })\n",
        "\n",
        "    st.write(\"### ✅ Input Preview\")\n",
        "    st.dataframe(features)\n",
        "\n",
        "    prediction = model.predict(features)\n",
        "    st.success(f\"**Result:** The model predicts this employee earns **{prediction[0]}**.\")\n",
        "\n",
        "st.divider()\n",
        "st.header(\"📂 Bulk Prediction\")\n",
        "\n",
        "csv_file = st.file_uploader(\n",
        "    \"Upload a CSV with the same columns as above (EXACT!).\",\n",
        "    type=\"csv\"\n",
        ")\n",
        "\n",
        "if csv_file:\n",
        "    try:\n",
        "        batch_df = pd.read_csv(csv_file)\n",
        "        st.write(\"Sample of uploaded data:\", batch_df.head())\n",
        "\n",
        "        batch_predictions = model.predict(batch_df)\n",
        "        batch_df[\"SalaryPrediction\"] = batch_predictions\n",
        "\n",
        "        st.write(\"### 📊 Predictions\")\n",
        "        st.dataframe(batch_df.head())\n",
        "\n",
        "        output = batch_df.to_csv(index=False).encode(\"utf-8\")\n",
        "        st.download_button(\n",
        "            \"⬇️ Download Results\",\n",
        "            data=output,\n",
        "            file_name=\"salary_predictions.csv\",\n",
        "            mime=\"text/csv\"\n",
        "        )\n",
        "    except Exception as e:\n",
        "        st.error(f\"Something went wrong while processing the file: {e}\")\n"
      ]
    },
    {
      "cell_type": "code",
      "execution_count": null,
      "metadata": {
        "colab": {
          "base_uri": "https://localhost:8080/"
        },
        "id": "VgvTWbU1ybVg",
        "outputId": "8f194947-6304-438d-af48-ac45cddca5e5"
      },
      "outputs": [
        {
          "name": "stdout",
          "output_type": "stream",
          "text": [
            "Collecting pyngrok\n",
            "  Downloading pyngrok-7.2.12-py3-none-any.whl.metadata (9.4 kB)\n",
            "Requirement already satisfied: PyYAML>=5.1 in /usr/local/lib/python3.11/dist-packages (from pyngrok) (6.0.2)\n",
            "Downloading pyngrok-7.2.12-py3-none-any.whl (26 kB)\n",
            "Installing collected packages: pyngrok\n",
            "Successfully installed pyngrok-7.2.12\n"
          ]
        }
      ],
      "source": [
        "!pip install pyngrok\n"
      ]
    },
    {
      "cell_type": "code",
      "execution_count": null,
      "metadata": {
        "colab": {
          "base_uri": "https://localhost:8080/"
        },
        "id": "pJnjBCHzybY8",
        "outputId": "eb82dca1-0ef8-441c-e0c2-209de0caa6a2"
      },
      "outputs": [
        {
          "name": "stdout",
          "output_type": "stream",
          "text": [
            "Requirement already satisfied: streamlit in /usr/local/lib/python3.11/dist-packages (1.47.0)\n",
            "Requirement already satisfied: ngrok in /usr/local/lib/python3.11/dist-packages (1.4.0)\n",
            "Requirement already satisfied: altair<6,>=4.0 in /usr/local/lib/python3.11/dist-packages (from streamlit) (5.5.0)\n",
            "Requirement already satisfied: blinker<2,>=1.5.0 in /usr/local/lib/python3.11/dist-packages (from streamlit) (1.9.0)\n",
            "Requirement already satisfied: cachetools<7,>=4.0 in /usr/local/lib/python3.11/dist-packages (from streamlit) (5.5.2)\n",
            "Requirement already satisfied: click<9,>=7.0 in /usr/local/lib/python3.11/dist-packages (from streamlit) (8.2.1)\n",
            "Requirement already satisfied: numpy<3,>=1.23 in /usr/local/lib/python3.11/dist-packages (from streamlit) (2.0.2)\n",
            "Requirement already satisfied: packaging<26,>=20 in /usr/local/lib/python3.11/dist-packages (from streamlit) (25.0)\n",
            "Requirement already satisfied: pandas<3,>=1.4.0 in /usr/local/lib/python3.11/dist-packages (from streamlit) (2.2.2)\n",
            "Requirement already satisfied: pillow<12,>=7.1.0 in /usr/local/lib/python3.11/dist-packages (from streamlit) (11.2.1)\n",
            "Requirement already satisfied: protobuf<7,>=3.20 in /usr/local/lib/python3.11/dist-packages (from streamlit) (5.29.5)\n",
            "Requirement already satisfied: pyarrow>=7.0 in /usr/local/lib/python3.11/dist-packages (from streamlit) (18.1.0)\n",
            "Requirement already satisfied: requests<3,>=2.27 in /usr/local/lib/python3.11/dist-packages (from streamlit) (2.32.3)\n",
            "Requirement already satisfied: tenacity<10,>=8.1.0 in /usr/local/lib/python3.11/dist-packages (from streamlit) (8.5.0)\n",
            "Requirement already satisfied: toml<2,>=0.10.1 in /usr/local/lib/python3.11/dist-packages (from streamlit) (0.10.2)\n",
            "Requirement already satisfied: typing-extensions<5,>=4.4.0 in /usr/local/lib/python3.11/dist-packages (from streamlit) (4.14.1)\n",
            "Requirement already satisfied: watchdog<7,>=2.1.5 in /usr/local/lib/python3.11/dist-packages (from streamlit) (6.0.0)\n",
            "Requirement already satisfied: gitpython!=3.1.19,<4,>=3.0.7 in /usr/local/lib/python3.11/dist-packages (from streamlit) (3.1.44)\n",
            "Requirement already satisfied: pydeck<1,>=0.8.0b4 in /usr/local/lib/python3.11/dist-packages (from streamlit) (0.9.1)\n",
            "Requirement already satisfied: tornado!=6.5.0,<7,>=6.0.3 in /usr/local/lib/python3.11/dist-packages (from streamlit) (6.4.2)\n",
            "Requirement already satisfied: jinja2 in /usr/local/lib/python3.11/dist-packages (from altair<6,>=4.0->streamlit) (3.1.6)\n",
            "Requirement already satisfied: jsonschema>=3.0 in /usr/local/lib/python3.11/dist-packages (from altair<6,>=4.0->streamlit) (4.24.0)\n",
            "Requirement already satisfied: narwhals>=1.14.2 in /usr/local/lib/python3.11/dist-packages (from altair<6,>=4.0->streamlit) (1.47.0)\n",
            "Requirement already satisfied: gitdb<5,>=4.0.1 in /usr/local/lib/python3.11/dist-packages (from gitpython!=3.1.19,<4,>=3.0.7->streamlit) (4.0.12)\n",
            "Requirement already satisfied: python-dateutil>=2.8.2 in /usr/local/lib/python3.11/dist-packages (from pandas<3,>=1.4.0->streamlit) (2.9.0.post0)\n",
            "Requirement already satisfied: pytz>=2020.1 in /usr/local/lib/python3.11/dist-packages (from pandas<3,>=1.4.0->streamlit) (2025.2)\n",
            "Requirement already satisfied: tzdata>=2022.7 in /usr/local/lib/python3.11/dist-packages (from pandas<3,>=1.4.0->streamlit) (2025.2)\n",
            "Requirement already satisfied: charset-normalizer<4,>=2 in /usr/local/lib/python3.11/dist-packages (from requests<3,>=2.27->streamlit) (3.4.2)\n",
            "Requirement already satisfied: idna<4,>=2.5 in /usr/local/lib/python3.11/dist-packages (from requests<3,>=2.27->streamlit) (3.10)\n",
            "Requirement already satisfied: urllib3<3,>=1.21.1 in /usr/local/lib/python3.11/dist-packages (from requests<3,>=2.27->streamlit) (2.4.0)\n",
            "Requirement already satisfied: certifi>=2017.4.17 in /usr/local/lib/python3.11/dist-packages (from requests<3,>=2.27->streamlit) (2025.7.14)\n",
            "Requirement already satisfied: smmap<6,>=3.0.1 in /usr/local/lib/python3.11/dist-packages (from gitdb<5,>=4.0.1->gitpython!=3.1.19,<4,>=3.0.7->streamlit) (5.0.2)\n",
            "Requirement already satisfied: MarkupSafe>=2.0 in /usr/local/lib/python3.11/dist-packages (from jinja2->altair<6,>=4.0->streamlit) (3.0.2)\n",
            "Requirement already satisfied: attrs>=22.2.0 in /usr/local/lib/python3.11/dist-packages (from jsonschema>=3.0->altair<6,>=4.0->streamlit) (25.3.0)\n",
            "Requirement already satisfied: jsonschema-specifications>=2023.03.6 in /usr/local/lib/python3.11/dist-packages (from jsonschema>=3.0->altair<6,>=4.0->streamlit) (2025.4.1)\n",
            "Requirement already satisfied: referencing>=0.28.4 in /usr/local/lib/python3.11/dist-packages (from jsonschema>=3.0->altair<6,>=4.0->streamlit) (0.36.2)\n",
            "Requirement already satisfied: rpds-py>=0.7.1 in /usr/local/lib/python3.11/dist-packages (from jsonschema>=3.0->altair<6,>=4.0->streamlit) (0.26.0)\n",
            "Requirement already satisfied: six>=1.5 in /usr/local/lib/python3.11/dist-packages (from python-dateutil>=2.8.2->pandas<3,>=1.4.0->streamlit) (1.17.0)\n"
          ]
        }
      ],
      "source": [
        "!pip install streamlit ngrok"
      ]
    },
    {
      "cell_type": "code",
      "execution_count": null,
      "metadata": {
        "colab": {
          "base_uri": "https://localhost:8080/"
        },
        "id": "hhrA8wriztz1",
        "outputId": "5c6fcc1d-dd69-406b-ff08-0f3b4069fc0f"
      },
      "outputs": [
        {
          "name": "stdout",
          "output_type": "stream",
          "text": [
            "Authtoken saved to configuration file: /root/.config/ngrok/ngrok.yml\n"
          ]
        }
      ],
      "source": [
        "!ngrok authtoken 302Uhns7Z4jxG7uZJooAzfwKZJs_2WxXioiStA6o8QKHYFHGA"
      ]
    },
    {
      "cell_type": "code",
      "execution_count": null,
      "metadata": {
        "id": "6Rp7O-tJzxIv"
      },
      "outputs": [],
      "source": [
        "from pyngrok import ngrok\n",
        "ngrok.kill()  # This kills any running tunnels\n"
      ]
    },
    {
      "cell_type": "code",
      "execution_count": null,
      "metadata": {
        "id": "RsKgQUnhz18b"
      },
      "outputs": [],
      "source": [
        "import os\n",
        "import threading\n",
        "def run_streamlit():\n",
        "  os.system('streamlit run app.py --server.port 8501')\n",
        "\n",
        "thread = threading.Thread(target=run_streamlit)\n",
        "thread.start()"
      ]
    },
    {
      "cell_type": "code",
      "execution_count": null,
      "metadata": {
        "colab": {
          "base_uri": "https://localhost:8080/"
        },
        "id": "mH4WsGMDz1_5",
        "outputId": "340db6ff-316a-4c44-dd10-7c268a57e809"
      },
      "outputs": [
        {
          "name": "stdout",
          "output_type": "stream",
          "text": [
            "Your Streamlit app is live here: NgrokTunnel: \"https://bfe143f02e58.ngrok-free.app\" -> \"http://localhost:8501\"\n"
          ]
        }
      ],
      "source": [
        "from pyngrok import ngrok\n",
        "import time\n",
        "\n",
        "# Wait a few seconds to make sure Streamlit started\n",
        "time.sleep(5)\n",
        "# Create a tunnel to the Streamlit port 8501\n",
        "\n",
        "public_url = ngrok.connect(8501)\n",
        "print(\"Your Streamlit app is live here:\", public_url)"
      ]
    }
  ],
  "metadata": {
    "colab": {
      "provenance": []
    },
    "kernelspec": {
      "display_name": "Python 3",
      "name": "python3"
    },
    "language_info": {
      "name": "python"
    }
  },
  "nbformat": 4,
  "nbformat_minor": 0
}
